{
 "cells": [
  {
   "cell_type": "code",
   "execution_count": 1,
   "id": "bc3b438c",
   "metadata": {},
   "outputs": [],
   "source": [
    "# We are using pandas, numpy and matplotlib\n",
    "import numpy as np\n",
    "import pandas as pd\n",
    "import matplotlib.pyplot as plt"
   ]
  },
  {
   "cell_type": "code",
   "execution_count": 2,
   "id": "49451f30",
   "metadata": {},
   "outputs": [],
   "source": [
    "org_data = np.array([[1, 0, 2],\n",
    "[0, 2, 1],\n",
    "[2, 1, 0]])"
   ]
  },
  {
   "cell_type": "code",
   "execution_count": 3,
   "id": "1692fbe0",
   "metadata": {},
   "outputs": [
    {
     "name": "stdout",
     "output_type": "stream",
     "text": [
      "Mean  (3,)\n",
      "Data after subtracting mean  (3, 3) \n",
      "\n",
      "Covariance matrix  (3, 3) \n",
      "\n",
      "[[ 1.  -0.5 -0.5]\n",
      " [-0.5  1.  -0.5]\n",
      " [-0.5 -0.5  1. ]]\n"
     ]
    }
   ],
   "source": [
    "# Subtract mean from data\n",
    "mean = np.mean(org_data, axis=0)\n",
    "print(\"Mean \", mean.shape)\n",
    "mean_data = org_data - mean\n",
    "print(\"Data after subtracting mean \", mean_data.shape, \"\\n\")\n",
    "# Compute covariance matrix\n",
    "cov = np.cov(mean_data.T)\n",
    "cov = np.round(cov, 2)\n",
    "print(\"Covariance matrix \", cov.shape, \"\\n\")\n",
    "print(cov)"
   ]
  },
  {
   "cell_type": "code",
   "execution_count": 4,
   "id": "81f5b95c",
   "metadata": {},
   "outputs": [
    {
     "name": "stdout",
     "output_type": "stream",
     "text": [
      "Eigen vectors \n",
      " [[ 0.57735027  0.50766227  0.63948861]\n",
      " [ 0.57735027 -0.80764452  0.11990412]\n",
      " [ 0.57735027  0.29998225 -0.75939273]]\n",
      "\n",
      "\n",
      "Eigen values  [0.  1.5 1.5] \n",
      "\n"
     ]
    }
   ],
   "source": [
    "# Perform eigen decomposition of covariance matrix\n",
    "eig_val, eig_vec = np.linalg.eigh(cov)\n",
    "print(\"Eigen vectors \\n\", eig_vec)\n",
    "print(\"\\n\\nEigen values \", eig_val, \"\\n\")\n",
    " \n"
   ]
  },
  {
   "cell_type": "code",
   "execution_count": 5,
   "id": "4a0fbe86",
   "metadata": {},
   "outputs": [
    {
     "data": {
      "text/plain": [
       "(3,)"
      ]
     },
     "execution_count": 5,
     "metadata": {},
     "output_type": "execute_result"
    }
   ],
   "source": [
    "eig_val.shape"
   ]
  },
  {
   "cell_type": "code",
   "execution_count": 6,
   "id": "2b571e69",
   "metadata": {},
   "outputs": [
    {
     "data": {
      "image/png": "[encoded data removed]",
      "text/plain": [
       "<Figure size 432x288 with 1 Axes>"
      ]
     },
     "metadata": {
      "needs_background": "light"
     },
     "output_type": "display_data"
    }
   ],
   "source": [
    "# Sort eigen values and corresponding eigen vectors in descending order\n",
    "indices = np.argsort(eig_val)[::-1]\n",
    "eig_val = eig_val[indices]\n",
    "eig_vec = eig_vec[:,indices]\n",
    " \n",
    "# Plot the eigenvalues\n",
    "plt.figure(figsize=(6, 4))\n",
    "plt.plot(range(1, len(eig_val) + 1), eig_val, marker='o')\n",
    "plt.xlabel('Eigenvalue Index')\n",
    "plt.ylabel('Eigenvalue')\n",
    "plt.title('Eigenvalues in Decreasing Order')\n",
    "plt.grid(True)\n",
    "plt.show() "
   ]
  },
  {
   "cell_type": "code",
   "execution_count": 7,
   "id": "28cc0fab",
   "metadata": {},
   "outputs": [
    {
     "data": {
      "text/plain": [
       "array([2, 1, 0], dtype=int64)"
      ]
     },
     "execution_count": 7,
     "metadata": {},
     "output_type": "execute_result"
    }
   ],
   "source": [
    "indices"
   ]
  },
  {
   "cell_type": "code",
   "execution_count": 8,
   "id": "cab269ca",
   "metadata": {},
   "outputs": [
    {
     "name": "stdout",
     "output_type": "stream",
     "text": [
      "Feature Vector:\n",
      "[[ 0.50766227  0.63948861]\n",
      " [-0.80764452  0.11990412]\n",
      " [ 0.29998225 -0.75939273]]\n"
     ]
    }
   ],
   "source": [
    "# Sort the eigenvalues and eigenvectors in decreasing order\n",
    "eigenvalues = eig_val\n",
    "eigenvectors = eig_vec\n",
    "sorted_indices = np.argsort(eigenvalues)[::-1]\n",
    "sorted_eigenvalues = eigenvalues[sorted_indices]\n",
    "sorted_eigenvectors = eigenvectors[:, sorted_indices]\n",
    " \n",
    "# Choose the feature vector for two principal components\n",
    "num_components = 2\n",
    "feature_vector = sorted_eigenvectors[:, :num_components]\n",
    " \n",
    "print(\"Feature Vector:\")\n",
    "print(feature_vector)"
   ]
  },
  {
   "cell_type": "code",
   "execution_count": 9,
   "id": "c0e53fa8",
   "metadata": {},
   "outputs": [
    {
     "data": {
      "text/plain": [
       "array([[ 0.50766227,  0.63948861],\n",
       "       [-0.80764452,  0.11990412],\n",
       "       [ 0.29998225, -0.75939273]])"
      ]
     },
     "execution_count": 9,
     "metadata": {},
     "output_type": "execute_result"
    }
   ],
   "source": [
    "feature_vector"
   ]
  },
  {
   "cell_type": "code",
   "execution_count": 10,
   "id": "3ce64908",
   "metadata": {},
   "outputs": [
    {
     "name": "stdout",
     "output_type": "stream",
     "text": [
      "Reduced Data Matrix:\n",
      "[[ 1.10762677 -0.87929684]\n",
      " [-1.31530679 -0.5195845 ]\n",
      " [ 0.20768002  1.39888134]]\n"
     ]
    },
    {
     "data": {
      "image/png": "[encoded data removed]",
      "text/plain": [
       "<Figure size 432x432 with 1 Axes>"
      ]
     },
     "metadata": {
      "needs_background": "light"
     },
     "output_type": "display_data"
    }
   ],
   "source": [
    " \n",
    "# Project the original data onto the feature vector\n",
    "\n",
    "reduced_data = np.dot(org_data.T, feature_vector)\n",
    " \n",
    "print(\"Reduced Data Matrix:\")\n",
    "print(reduced_data)\n",
    " \n",
    "# Plot the reduced data points in 2D space\n",
    "plt.figure(figsize=(6, 6))\n",
    "plt.scatter(reduced_data[:, 0], reduced_data[:, 1])\n",
    "plt.xlabel('Principal Component 1')\n",
    "plt.ylabel('Principal Component 2')\n",
    "plt.title('Reduced Data Points in 2D Space')\n",
    "plt.grid(True)\n",
    "plt.show()\n"
   ]
  },
  {
   "cell_type": "code",
   "execution_count": null,
   "id": "a81de93f",
   "metadata": {},
   "outputs": [],
   "source": []
  }
 ],
 "metadata": {
  "kernelspec": {
   "display_name": "Python 3 (ipykernel)",
   "language": "python",
   "name": "python3"
  },
  "language_info": {
   "codemirror_mode": {
    "name": "ipython",
    "version": 3
   },
   "file_extension": ".py",
   "mimetype": "text/x-python",
   "name": "python",
   "nbconvert_exporter": "python",
   "pygments_lexer": "ipython3",
   "version": "3.9.12"
  }
 },
 "nbformat": 4,
 "nbformat_minor": 5
}
