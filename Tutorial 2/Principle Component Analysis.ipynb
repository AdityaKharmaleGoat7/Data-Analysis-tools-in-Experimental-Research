{
 "cells": [
  {
   "cell_type": "code",
   "execution_count": 1,
   "id": "bc3b438c",
   "metadata": {},
   "outputs": [],
   "source": [
    "# We are using pandas, numpy and matplotlib\n",
    "import numpy as np\n",
    "import pandas as pd\n",
    "import matplotlib.pyplot as plt"
   ]
  },
  {
   "cell_type": "code",
   "execution_count": 2,
   "id": "49451f30",
   "metadata": {},
   "outputs": [],
   "source": [
    "org_data = np.array([[126, 78],\n",
    "[128, 80],\n",
    "[128, 82],\n",
    "[130, 82],\n",
    "[130, 84],\n",
    "[132, 86]])"
   ]
  },
  {
   "cell_type": "code",
   "execution_count": 3,
   "id": "24ddba82",
   "metadata": {},
   "outputs": [
    {
     "data": {
      "image/png": "[encoded data removed]",
      "text/plain": [
       "<Figure size 432x432 with 1 Axes>"
      ]
     },
     "metadata": {
      "needs_background": "light"
     },
     "output_type": "display_data"
    }
   ],
   "source": [
    "x_values = org_data[:, 1]  # Second column on x-axis\n",
    "y_values = org_data[:, 0]  # First column on y-axis\n",
    "\n",
    "# Plot\n",
    "plt.figure(figsize=(6, 6))\n",
    "plt.scatter(x_values, y_values)\n",
    "plt.xlabel('Diastolic BP')\n",
    "plt.ylabel('Systolic BP')\n",
    "plt.title('Scatter Plot of Data')\n",
    "plt.grid(True)\n",
    "plt.show()"
   ]
  },
  {
   "cell_type": "code",
   "execution_count": 4,
   "id": "1692fbe0",
   "metadata": {},
   "outputs": [
    {
     "name": "stdout",
     "output_type": "stream",
     "text": [
      "Mean  (2,)\n",
      "Data after subtracting mean  (6, 2) \n",
      "\n",
      "Covariance matrix  (2, 2) \n",
      "\n",
      "[[4.4 5.6]\n",
      " [5.6 8. ]]\n"
     ]
    }
   ],
   "source": [
    "# Subtract mean from data\n",
    "mean = np.mean(org_data, axis=0)\n",
    "print(\"Mean \", mean.shape)\n",
    "mean_data = org_data - mean\n",
    "print(\"Data after subtracting mean \", mean_data.shape, \"\\n\")\n",
    "\n",
    "# Compute covariance matrix\n",
    "cov = np.cov(mean_data.T)\n",
    "cov = np.round(cov, 2)\n",
    "print(\"Covariance matrix \", cov.shape, \"\\n\")\n",
    "print(cov)"
   ]
  },
  {
   "cell_type": "code",
   "execution_count": 5,
   "id": "21dfd56f",
   "metadata": {},
   "outputs": [
    {
     "data": {
      "text/plain": [
       "array([[-3., -1., -1.,  1.,  1.,  3.],\n",
       "       [-4., -2.,  0.,  0.,  2.,  4.]])"
      ]
     },
     "execution_count": 5,
     "metadata": {},
     "output_type": "execute_result"
    }
   ],
   "source": [
    "mean_data.T"
   ]
  },
  {
   "cell_type": "code",
   "execution_count": 6,
   "id": "81f5b95c",
   "metadata": {},
   "outputs": [
    {
     "name": "stdout",
     "output_type": "stream",
     "text": [
      "Eigen vectors \n",
      " [[-0.80808699  0.58906316]\n",
      " [ 0.58906316  0.80808699]]\n",
      "\n",
      "\n",
      "Eigen values  [ 0.31782353 12.08217647] \n",
      "\n"
     ]
    }
   ],
   "source": [
    "# Perform eigen decomposition of covariance matrix\n",
    "eig_val, eig_vec = np.linalg.eigh(cov)\n",
    "print(\"Eigen vectors \\n\", eig_vec)\n",
    "print(\"\\n\\nEigen values \", eig_val, \"\\n\")\n",
    " \n"
   ]
  },
  {
   "cell_type": "code",
   "execution_count": 7,
   "id": "4a0fbe86",
   "metadata": {},
   "outputs": [
    {
     "data": {
      "text/plain": [
       "(2,)"
      ]
     },
     "execution_count": 7,
     "metadata": {},
     "output_type": "execute_result"
    }
   ],
   "source": [
    "eig_val.shape"
   ]
  },
  {
   "cell_type": "code",
   "execution_count": 8,
   "id": "2b571e69",
   "metadata": {},
   "outputs": [
    {
     "data": {
      "image/png": "[encoded data removed]",
      "text/plain": [
       "<Figure size 432x288 with 1 Axes>"
      ]
     },
     "metadata": {
      "needs_background": "light"
     },
     "output_type": "display_data"
    }
   ],
   "source": [
    "# Sort eigen values and corresponding eigen vectors in descending order\n",
    "indices = np.argsort(eig_val)[::-1]\n",
    "eig_val = eig_val[indices]\n",
    "eig_vec = eig_vec[:,indices]\n",
    " \n",
    "# Plot the eigenvalues\n",
    "plt.figure(figsize=(6, 4))\n",
    "plt.plot(range(1, len(eig_val) + 1), eig_val, marker='o')\n",
    "plt.xlabel('Eigenvalue Index')\n",
    "plt.ylabel('Eigenvalue')\n",
    "plt.title('Eigenvalues in Decreasing Order')\n",
    "plt.grid(True)\n",
    "plt.show() "
   ]
  },
  {
   "cell_type": "code",
   "execution_count": 9,
   "id": "28cc0fab",
   "metadata": {},
   "outputs": [
    {
     "data": {
      "text/plain": [
       "array([1, 0], dtype=int64)"
      ]
     },
     "execution_count": 9,
     "metadata": {},
     "output_type": "execute_result"
    }
   ],
   "source": [
    "indices"
   ]
  },
  {
   "cell_type": "code",
   "execution_count": 10,
   "id": "cab269ca",
   "metadata": {},
   "outputs": [
    {
     "name": "stdout",
     "output_type": "stream",
     "text": [
      "Feature Vector:\n",
      "[[0.58906316]\n",
      " [0.80808699]]\n"
     ]
    }
   ],
   "source": [
    "# Sort the eigenvalues and eigenvectors in decreasing order\n",
    "eigenvalues = eig_val\n",
    "eigenvectors = eig_vec\n",
    "sorted_indices = np.argsort(eigenvalues)[::-1]\n",
    "sorted_eigenvalues = eigenvalues[sorted_indices]\n",
    "sorted_eigenvectors = eigenvectors[:, sorted_indices]\n",
    " \n",
    "# Choose the feature vector for two principal components\n",
    "num_components = 1\n",
    "feature_vector = sorted_eigenvectors[:, :num_components]\n",
    " \n",
    "print(\"Feature Vector:\")\n",
    "print(feature_vector)"
   ]
  },
  {
   "cell_type": "code",
   "execution_count": 11,
   "id": "c0e53fa8",
   "metadata": {},
   "outputs": [
    {
     "data": {
      "text/plain": [
       "array([[0.58906316],\n",
       "       [0.80808699]])"
      ]
     },
     "execution_count": 11,
     "metadata": {},
     "output_type": "execute_result"
    }
   ],
   "source": [
    "feature_vector"
   ]
  },
  {
   "cell_type": "code",
   "execution_count": 12,
   "id": "3ce64908",
   "metadata": {},
   "outputs": [
    {
     "name": "stdout",
     "output_type": "stream",
     "text": [
      "Reduced Data Matrix:\n",
      "[[137.25274406]\n",
      " [140.04704438]\n",
      " [141.66321837]\n",
      " [142.84134469]\n",
      " [144.45751868]\n",
      " [147.25181899]]\n"
     ]
    },
    {
     "data": {
      "image/png": "[encoded data removed]",
      "text/plain": [
       "<Figure size 432x432 with 1 Axes>"
      ]
     },
     "metadata": {
      "needs_background": "light"
     },
     "output_type": "display_data"
    }
   ],
   "source": [
    "# Project the original data onto the feature vector\n",
    "reduced_data = np.dot(org_data, feature_vector)\n",
    "\n",
    "print(\"Reduced Data Matrix:\")\n",
    "print(reduced_data)\n",
    "\n",
    "# Plot the reduced data points in 2D space\n",
    "plt.figure(figsize=(6, 6))\n",
    "plt.scatter(reduced_data[:, 0], np.zeros(reduced_data.shape[0]))\n",
    "plt.xlabel('Principal Component 1')\n",
    "plt.title('Reduced Data Points in 2D Space')\n",
    "plt.grid(True)\n",
    "plt.show()\n"
   ]
  },
  {
   "cell_type": "code",
   "execution_count": null,
   "id": "e9fd4c5c",
   "metadata": {},
   "outputs": [],
   "source": []
  }
 ],
 "metadata": {
  "kernelspec": {
   "display_name": "Python 3 (ipykernel)",
   "language": "python",
   "name": "python3"
  },
  "language_info": {
   "codemirror_mode": {
    "name": "ipython",
    "version": 3
   },
   "file_extension": ".py",
   "mimetype": "text/x-python",
   "name": "python",
   "nbconvert_exporter": "python",
   "pygments_lexer": "ipython3",
   "version": "3.9.12"
  }
 },
 "nbformat": 4,
 "nbformat_minor": 5
}
