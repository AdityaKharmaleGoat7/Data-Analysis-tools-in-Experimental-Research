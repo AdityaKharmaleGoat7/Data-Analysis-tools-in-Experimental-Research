{
 "cells": [
  {
   "cell_type": "code",
   "execution_count": 8,
   "id": "e1a1a046",
   "metadata": {},
   "outputs": [],
   "source": [
    "import pandas as pd\n",
    "import numpy as np\n",
    "import matplotlib.pyplot as plt\n",
    "import seaborn as sns\n",
    "from scipy.spatial.distance import cdist\n",
    "import math\n"
   ]
  },
  {
   "cell_type": "code",
   "execution_count": 9,
   "id": "79eb0b4d",
   "metadata": {},
   "outputs": [
    {
     "data": {
      "text/plain": [
       "<AxesSubplot:>"
      ]
     },
     "execution_count": 9,
     "metadata": {},
     "output_type": "execute_result"
    },
    {
     "data": {
      "image/png": "[encoded data removed]",
      "text/plain": [
       "<Figure size 432x288 with 2 Axes>"
      ]
     },
     "metadata": {
      "needs_background": "light"
     },
     "output_type": "display_data"
    }
   ],
   "source": [
    "data3 = [[0.000, 2.000, 1.998, 1.181, 1.812, 1.993],\n",
    "        [2.000, 0.000, 1.999, 1.216, 1.795, 1.996],\n",
    "        [1.998, 1.999, 0.000, 1.258, 1.772, 1.998],\n",
    "        [1.181, 1.216, 1.258, 0.000, 0.208, 1.326],\n",
    "        [1.812, 1.795, 1.772, 0.208, 0.000, 1.732],\n",
    "        [1.993, 1.996, 1.998, 1.326, 1.732, 0.000]]\n",
    "data3 = np.array(data3)\n",
    "sns.heatmap(data3)"
   ]
  },
  {
   "cell_type": "code",
   "execution_count": 18,
   "id": "02513bfc",
   "metadata": {},
   "outputs": [],
   "source": [
    "dist_matrix3 = cdist(data3, data3, metric='euclidean')"
   ]
  },
  {
   "cell_type": "code",
   "execution_count": 19,
   "id": "78111215",
   "metadata": {},
   "outputs": [
    {
     "data": {
      "text/plain": [
       "array([[0.        , 2.82869652, 2.82693527, 2.63997784, 2.77031388,\n",
       "        2.8233914 ],\n",
       "       [2.82869652, 0.        , 2.82741985, 2.67294276, 2.75983387,\n",
       "        2.825624  ],\n",
       "       [2.82693527, 2.82741985, 0.        , 2.70986826, 2.74398178,\n",
       "        2.82670586],\n",
       "       [2.63997784, 2.67294276, 2.70986826, 0.        , 1.11756968,\n",
       "        2.76667165],\n",
       "       [2.77031388, 2.75983387, 2.74398178, 1.11756968, 0.        ,\n",
       "        2.71547602],\n",
       "       [2.8233914 , 2.825624  , 2.82670586, 2.76667165, 2.71547602,\n",
       "        0.        ]])"
      ]
     },
     "execution_count": 19,
     "metadata": {},
     "output_type": "execute_result"
    }
   ],
   "source": [
    "dist_matrix3"
   ]
  },
  {
   "cell_type": "code",
   "execution_count": 11,
   "id": "4df8da34",
   "metadata": {},
   "outputs": [],
   "source": [
    "def sim(dist):\n",
    "    return math.exp(-(dist)**2/2)"
   ]
  },
  {
   "cell_type": "code",
   "execution_count": 12,
   "id": "c7ebac36",
   "metadata": {},
   "outputs": [],
   "source": [
    "def cond_prob(j,i,dist_mat):\n",
    "    # i and j are shapes of the matrix, in python indexing starts from 0 so we need to subtract 1\n",
    "    i = i-1\n",
    "    j = j-1\n",
    "    \n",
    "    # We are calculating the numerator for the conditional probability\n",
    "    num = sim(dist_mat[i,j])\n",
    "    \n",
    "    # We are calculating the denominator for the conditional probability\n",
    "    if i ==j:\n",
    "        return 0 # Refer the formula\n",
    "    else:\n",
    "        den = 0\n",
    "        for col in range(np.shape(dist_mat)[1]): # We are iterating over the columns\n",
    "            if col != i:\n",
    "                den += sim(dist_mat[i,col])\n",
    " \n",
    "        return num / den # Returning the conditional probability\n",
    "\n"
   ]
  },
  {
   "cell_type": "code",
   "execution_count": 13,
   "id": "c70dbeae",
   "metadata": {},
   "outputs": [],
   "source": [
    "def joint_prob(dist_matrix,data):\n",
    "    # Our conditional matrix will be of same shape as of the distance matrix\n",
    "    cond_matrix = np.zeros(np.shape(dist_matrix))\n",
    " \n",
    "    row, colm = np.shape(data)\n",
    "    m,n = np.shape(dist_matrix)\n",
    " \n",
    "    # We are iterating over the rows and columns to find out the conditional probability for each pair\n",
    "    for i in range(1,m+1):\n",
    "        for j in range(1,n+1):\n",
    "            cond1 = cond_prob(j,i,dist_matrix)\n",
    "            cond2 = cond_prob(i,j,dist_matrix) \n",
    "            # Refer the formula\n",
    "            temp = (cond1 + cond2)/(2*row*colm)\n",
    "            # Storing the value in the conditional matrix\n",
    "            cond_matrix[i-1,j-1] = temp\n",
    " \t\n",
    "    return cond_matrix\n"
   ]
  },
  {
   "cell_type": "code",
   "execution_count": 16,
   "id": "570ce395",
   "metadata": {},
   "outputs": [
    {
     "name": "stdout",
     "output_type": "stream",
     "text": [
      "The high dimensional Matrix is: \n",
      "[[0.    2.    1.998 1.181 1.812 1.993]\n",
      " [2.    0.    1.999 1.216 1.795 1.996]\n",
      " [1.998 1.999 0.    1.258 1.772 1.998]\n",
      " [1.181 1.216 1.258 0.    0.208 1.326]\n",
      " [1.812 1.795 1.772 0.208 0.    1.732]\n",
      " [1.993 1.996 1.998 1.326 1.732 0.   ]]\n",
      "(6, 6)\n",
      "\n",
      "The joint probability of high dimensional matrix is: \n",
      "\n",
      " [[0.     0.0048 0.0048 0.0046 0.0033 0.0049]\n",
      " [0.0048 0.     0.0049 0.0043 0.0034 0.0049]\n",
      " [0.0048 0.0049 0.     0.004  0.0036 0.005 ]\n",
      " [0.0046 0.0043 0.004  0.     0.0234 0.0034]\n",
      " [0.0033 0.0034 0.0036 0.0234 0.     0.004 ]\n",
      " [0.0049 0.0049 0.005  0.0034 0.004  0.    ]]\n"
     ]
    }
   ],
   "source": [
    "joint_prob_data3 = joint_prob(dist_matrix3, data3)\n",
    "print('The high dimensional Matrix is: ')\n",
    "print(np.round(data3, 3))\n",
    "print(data3.shape)\n",
    "print('\\nThe joint probability of high dimensional matrix is: \\n\\n', np.round(joint_prob_data3, 4))\n"
   ]
  },
  {
   "cell_type": "code",
   "execution_count": 17,
   "id": "f33d31d7",
   "metadata": {},
   "outputs": [
    {
     "name": "stdout",
     "output_type": "stream",
     "text": [
      "The high dimensional Matrix is: \n",
      "[[0.    2.    1.998 1.181 1.812 1.993]\n",
      " [2.    0.    1.999 1.216 1.795 1.996]\n",
      " [1.998 1.999 0.    1.258 1.772 1.998]\n",
      " [1.181 1.216 1.258 0.    0.208 1.326]\n",
      " [1.812 1.795 1.772 0.208 0.    1.732]\n",
      " [1.993 1.996 1.998 1.326 1.732 0.   ]]\n",
      "(6, 6)\n",
      "\n",
      "\n",
      "The low dimensional Matrix is: \n",
      "[[0.54881 0.71519]\n",
      " [0.60276 0.54488]\n",
      " [0.42365 0.64589]\n",
      " [0.43759 0.89177]\n",
      " [0.96366 0.38344]\n",
      " [0.79173 0.52889]]\n",
      "(6, 2)\n"
     ]
    }
   ],
   "source": [
    "#Calculation of joint probability for low dimension matrix\n",
    "#############################\n",
    "#Code to generate the random number matrix\n",
    "\n",
    "\n",
    "np.random.seed(0)\n",
    "\n",
    "\n",
    "Y = np.random.rand(6,2)\n",
    " \n",
    "print('The high dimensional Matrix is: ')\n",
    "print(np.round(data3,3))\n",
    "print(data3.shape)\n",
    " \n",
    "print('\\n\\nThe low dimensional Matrix is: ')\n",
    "print(np.round(Y,5))\n",
    "print(Y.shape)\n",
    " \n"
   ]
  }
 ],
 "metadata": {
  "kernelspec": {
   "display_name": "Python 3 (ipykernel)",
   "language": "python",
   "name": "python3"
  },
  "language_info": {
   "codemirror_mode": {
    "name": "ipython",
    "version": 3
   },
   "file_extension": ".py",
   "mimetype": "text/x-python",
   "name": "python",
   "nbconvert_exporter": "python",
   "pygments_lexer": "ipython3",
   "version": "3.9.12"
  }
 },
 "nbformat": 4,
 "nbformat_minor": 5
}
