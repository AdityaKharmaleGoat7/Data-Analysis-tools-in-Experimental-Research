{
 "cells": [
  {
   "cell_type": "code",
   "execution_count": 1,
   "id": "57b4fcde",
   "metadata": {},
   "outputs": [
    {
     "name": "stderr",
     "output_type": "stream",
     "text": [
      "C:\\ProgramData\\Anaconda3\\lib\\site-packages\\scipy\\__init__.py:146: UserWarning: A NumPy version >=1.16.5 and <1.23.0 is required for this version of SciPy (detected version 1.26.4\n",
      "  warnings.warn(f\"A NumPy version >={np_minversion} and <{np_maxversion}\"\n"
     ]
    }
   ],
   "source": [
    "import pandas as pd\n",
    "import numpy as np\n",
    "import inspect\n",
    "from sklearn.linear_model import LinearRegression as regress\n",
    "from sklearn.preprocessing import PolynomialFeatures"
   ]
  },
  {
   "cell_type": "code",
   "execution_count": 8,
   "id": "3eda25ac",
   "metadata": {},
   "outputs": [
    {
     "name": "stdout",
     "output_type": "stream",
     "text": [
      "      y   x1    x2   x3\n",
      "0  2145  110   750  140\n",
      "1  2155  110   850  180\n",
      "2  2220  110  1000  140\n",
      "3  2225  110  1100  180\n",
      "4  2260  120   750  140\n",
      "5  2266  120   850  180\n",
      "6  2334  120  1000  140\n",
      "7  2340  130  1000  180\n",
      "8  2212  115   840  150\n",
      "9  2180  115   880  150\n"
     ]
    }
   ],
   "source": [
    "data = pd.read_excel('tutorial1.xlsx')\n",
    "print(data)\n",
    "Y = data.iloc[:,0].values\n",
    "\n",
    "\n",
    "x1 = data.iloc[:,1].values #Operating voltage\n",
    "x2 = data.iloc[:,2].values\n",
    "x3 = data.iloc[:,3].values\n",
    "ones_col = np.ones(np.size(x1))\n",
    "#Calculation of coefficients for linear terms\n",
    "XL = np.column_stack((x1,x2,x3))\n"
   ]
  },
  {
   "cell_type": "code",
   "execution_count": 9,
   "id": "6f4e836c",
   "metadata": {},
   "outputs": [],
   "source": [
    "model = regress().fit(XL,Y)\n",
    "b0 = model.intercept_\n",
    "linear = model.coef_\n",
    "b1 = linear[0]\n",
    "b2 = linear[1]\n",
    "b3 = linear[2]\n",
    "\n",
    "\n",
    "linear_coeff = [b0,b1,b2,b3]\n"
   ]
  },
  {
   "cell_type": "code",
   "execution_count": 10,
   "id": "8012f99b",
   "metadata": {},
   "outputs": [
    {
     "name": "stdout",
     "output_type": "stream",
     "text": [
      "The coefficients for the linear model are: \n",
      " b0 = 1108.7244911480202 \n",
      " b1 = 8.639331823916764 \n",
      " b2 = 0.2607707242318972 \n",
      " b3 = -0.7114061770856739 \n",
      "\n",
      "\n",
      "The equation is: \n",
      " Y = 1108.7244911480202 + 8.639331823916764*X1 + 0.2607707242318972*X2 + -0.7114061770856739*X3\n"
     ]
    }
   ],
   "source": [
    "print('The coefficients for the linear model are: \\n b0 = {} \\n b1 = {} \\n b2 = {} \\n b3 = {} \\n\\n'.format(b0,b1,b2,b3))\n",
    "\n",
    "\n",
    "print('The equation is: \\n Y = {} + {}*X1 + {}*X2 + {}*X3'.format(b0,b1,b2,b3))\n"
   ]
  },
  {
   "cell_type": "code",
   "execution_count": null,
   "id": "ac8d32a2",
   "metadata": {},
   "outputs": [],
   "source": []
  }
 ],
 "metadata": {
  "kernelspec": {
   "display_name": "Python 3 (ipykernel)",
   "language": "python",
   "name": "python3"
  },
  "language_info": {
   "codemirror_mode": {
    "name": "ipython",
    "version": 3
   },
   "file_extension": ".py",
   "mimetype": "text/x-python",
   "name": "python",
   "nbconvert_exporter": "python",
   "pygments_lexer": "ipython3",
   "version": "3.9.12"
  }
 },
 "nbformat": 4,
 "nbformat_minor": 5
}
